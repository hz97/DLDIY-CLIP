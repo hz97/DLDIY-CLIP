{
 "cells": [
  {
   "cell_type": "markdown",
   "id": "435d0949-0f01-400c-a3a8-0fec0ac1fd70",
   "metadata": {},
   "source": [
    "# Download and Preprocessing Datasets"
   ]
  },
  {
   "cell_type": "code",
   "execution_count": 11,
   "id": "6b5a13ba-b3f7-4f8e-8c50-2db2468128f4",
   "metadata": {},
   "outputs": [],
   "source": [
    "import torch\n",
    "import numpy as np\n",
    "from PIL import Image\n",
    "from torch.utils.data import DataLoader\n",
    "from torchvision import datasets\n",
    "from zipfile import ZipFile"
   ]
  },
  {
   "cell_type": "code",
   "execution_count": 12,
   "id": "fc3bba16-17ca-48d8-a44d-a539c493aa56",
   "metadata": {},
   "outputs": [
    {
     "name": "stdout",
     "output_type": "stream",
     "text": [
      "/home/jovyan/notebooks/project/data/data\n"
     ]
    }
   ],
   "source": [
    "%mkdir data\n",
    "%cd data/"
   ]
  },
  {
   "cell_type": "markdown",
   "id": "87591686-7b48-4e08-80e7-f9ea43fd6469",
   "metadata": {},
   "source": [
    "## Wikiart Dataset"
   ]
  },
  {
   "cell_type": "code",
   "execution_count": null,
   "id": "a4bba761-5c9e-4b6e-a55d-6c44e71c1e5b",
   "metadata": {},
   "outputs": [],
   "source": [
    "!wget http://web.fsktm.um.edu.my/~cschan/source/ICIP2017/wikiart.zip"
   ]
  },
  {
   "cell_type": "code",
   "execution_count": null,
   "id": "03d6d956-7544-4eb5-ba83-c460f9261c3a",
   "metadata": {},
   "outputs": [],
   "source": [
    "from zipfile import ZipFile\n",
    "\n",
    "with ZipFile('wikiart.zip', 'r') as zf:\n",
    "    zf.extractall('')"
   ]
  },
  {
   "cell_type": "markdown",
   "id": "c15fe842-049f-4044-b496-b16dd57b09ee",
   "metadata": {},
   "source": [
    "## DomainNet Dataset"
   ]
  },
  {
   "cell_type": "code",
   "execution_count": 3,
   "id": "449ebfe6-3240-4a53-9121-ff6b1a6a2088",
   "metadata": {},
   "outputs": [
    {
     "name": "stdout",
     "output_type": "stream",
     "text": [
      "--2022-01-21 04:54:13--  http://csr.bu.edu/ftp/visda/2019/multi-source/groundtruth/clipart.zip\n",
      "Resolving csr.bu.edu (csr.bu.edu)... 128.197.11.70\n",
      "Connecting to csr.bu.edu (csr.bu.edu)|128.197.11.70|:80... connected.\n",
      "HTTP request sent, awaiting response... 200 OK\n",
      "Length: 1270909081 (1.2G) [application/zip]\n",
      "Saving to: ‘clipart.zip’\n",
      "\n",
      "clipart.zip         100%[===================>]   1.18G  34.2MB/s    in 38s     \n",
      "\n",
      "2022-01-21 04:54:52 (32.0 MB/s) - ‘clipart.zip’ saved [1270909081/1270909081]\n",
      "\n"
     ]
    }
   ],
   "source": [
    "!wget http://csr.bu.edu/ftp/visda/2019/multi-source/groundtruth/clipart.zip"
   ]
  },
  {
   "cell_type": "code",
   "execution_count": 4,
   "id": "768abe82-5356-4d46-a370-e0f87574219f",
   "metadata": {},
   "outputs": [
    {
     "name": "stdout",
     "output_type": "stream",
     "text": [
      "--2022-01-21 04:54:53--  http://csr.bu.edu/ftp/visda/2019/multi-source/infograph.zip\n",
      "Resolving csr.bu.edu (csr.bu.edu)... 128.197.11.70\n",
      "Connecting to csr.bu.edu (csr.bu.edu)|128.197.11.70|:80... connected.\n",
      "HTTP request sent, awaiting response... 200 OK\n",
      "Length: 4338659804 (4.0G) [application/zip]\n",
      "Saving to: ‘infograph.zip’\n",
      "\n",
      "infograph.zip       100%[===================>]   4.04G  36.4MB/s    in 2m 1s   \n",
      "\n",
      "2022-01-21 04:56:55 (34.2 MB/s) - ‘infograph.zip’ saved [4338659804/4338659804]\n",
      "\n"
     ]
    }
   ],
   "source": [
    "!wget http://csr.bu.edu/ftp/visda/2019/multi-source/infograph.zip"
   ]
  },
  {
   "cell_type": "code",
   "execution_count": 5,
   "id": "31db4fa1-0ce0-4c2b-87b6-788181985153",
   "metadata": {},
   "outputs": [
    {
     "name": "stdout",
     "output_type": "stream",
     "text": [
      "--2022-01-21 04:56:56--  http://csr.bu.edu/ftp/visda/2019/multi-source/groundtruth/painting.zip\n",
      "Resolving csr.bu.edu (csr.bu.edu)... 128.197.11.70\n",
      "Connecting to csr.bu.edu (csr.bu.edu)|128.197.11.70|:80... connected.\n",
      "HTTP request sent, awaiting response... 200 OK\n",
      "Length: 3679366174 (3.4G) [application/zip]\n",
      "Saving to: ‘painting.zip’\n",
      "\n",
      "painting.zip        100%[===================>]   3.43G  35.0MB/s    in 1m 48s  \n",
      "\n",
      "2022-01-21 04:58:44 (32.6 MB/s) - ‘painting.zip’ saved [3679366174/3679366174]\n",
      "\n"
     ]
    }
   ],
   "source": [
    "!wget http://csr.bu.edu/ftp/visda/2019/multi-source/groundtruth/painting.zip"
   ]
  },
  {
   "cell_type": "code",
   "execution_count": 6,
   "id": "67b595c7-c138-4837-acf4-96053f1aee68",
   "metadata": {},
   "outputs": [
    {
     "name": "stdout",
     "output_type": "stream",
     "text": [
      "--2022-01-21 04:58:46--  http://csr.bu.edu/ftp/visda/2019/multi-source/quickdraw.zip\n",
      "Resolving csr.bu.edu (csr.bu.edu)... 128.197.11.70\n",
      "Connecting to csr.bu.edu (csr.bu.edu)|128.197.11.70|:80... connected.\n",
      "HTTP request sent, awaiting response... 200 OK\n",
      "Length: 459920701 (439M) [application/zip]\n",
      "Saving to: ‘quickdraw.zip’\n",
      "\n",
      "quickdraw.zip       100%[===================>] 438.61M  35.9MB/s    in 13s     \n",
      "\n",
      "2022-01-21 04:58:59 (32.9 MB/s) - ‘quickdraw.zip’ saved [459920701/459920701]\n",
      "\n"
     ]
    }
   ],
   "source": [
    "!wget http://csr.bu.edu/ftp/visda/2019/multi-source/quickdraw.zip"
   ]
  },
  {
   "cell_type": "code",
   "execution_count": 7,
   "id": "57e6b10d-9b56-45b5-b982-ca6452ad7cde",
   "metadata": {},
   "outputs": [
    {
     "name": "stdout",
     "output_type": "stream",
     "text": [
      "--2022-01-21 04:59:01--  http://csr.bu.edu/ftp/visda/2019/multi-source/real.zip\n",
      "Resolving csr.bu.edu (csr.bu.edu)... 128.197.11.70\n",
      "Connecting to csr.bu.edu (csr.bu.edu)|128.197.11.70|:80... connected.\n",
      "HTTP request sent, awaiting response... 200 OK\n",
      "Length: 6062039589 (5.6G) [application/zip]\n",
      "Saving to: ‘real.zip’\n",
      "\n",
      "real.zip            100%[===================>]   5.65G  24.0MB/s    in 2m 48s  \n",
      "\n",
      "2022-01-21 05:01:49 (34.4 MB/s) - ‘real.zip’ saved [6062039589/6062039589]\n",
      "\n"
     ]
    }
   ],
   "source": [
    "!wget http://csr.bu.edu/ftp/visda/2019/multi-source/real.zip"
   ]
  },
  {
   "cell_type": "code",
   "execution_count": 16,
   "id": "658bce40-7d8d-43b0-b076-946fc5c7e75b",
   "metadata": {},
   "outputs": [
    {
     "name": "stdout",
     "output_type": "stream",
     "text": [
      "--2022-01-21 05:14:06--  http://csr.bu.edu/ftp/visda/2019/multi-source/sketch.zip\n",
      "Resolving csr.bu.edu (csr.bu.edu)... 128.197.11.70\n",
      "Connecting to csr.bu.edu (csr.bu.edu)|128.197.11.70|:80... connected.\n",
      "HTTP request sent, awaiting response... 200 OK\n",
      "Length: 2633992926 (2.5G) [application/zip]\n",
      "Saving to: ‘sketch.zip.1’\n",
      "\n",
      "sketch.zip.1        100%[===================>]   2.45G  21.9MB/s    in 2m 32s  \n",
      "\n",
      "2022-01-21 05:16:38 (16.6 MB/s) - ‘sketch.zip.1’ saved [2633992926/2633992926]\n",
      "\n"
     ]
    }
   ],
   "source": [
    "!wget http://csr.bu.edu/ftp/visda/2019/multi-source/sketch.zip"
   ]
  },
  {
   "cell_type": "code",
   "execution_count": 14,
   "id": "d66a444a-2bf2-4c8c-a7e6-a7c5a7204586",
   "metadata": {},
   "outputs": [],
   "source": [
    "%mkdir domain_net"
   ]
  },
  {
   "cell_type": "code",
   "execution_count": 2,
   "id": "2a7ee7e8-1c90-438f-9efb-72004ab4643c",
   "metadata": {},
   "outputs": [],
   "source": [
    "domains = ['clipart', 'infograph', 'painting', 'quickdraw', 'real', 'sketch']"
   ]
  },
  {
   "cell_type": "code",
   "execution_count": 15,
   "id": "69ed1fda-7ea6-4bb0-bdb0-1bf78d0db014",
   "metadata": {},
   "outputs": [],
   "source": [
    "for domain in domains:\n",
    "    with ZipFile(f'{domain}.zip', 'r') as zf:\n",
    "        zf.extractall('domain_net/')"
   ]
  },
  {
   "cell_type": "code",
   "execution_count": 17,
   "id": "a49fce50-0065-4f46-a7fe-b59bf84321f5",
   "metadata": {},
   "outputs": [
    {
     "name": "stdout",
     "output_type": "stream",
     "text": [
      "/home/jovyan/notebooks/project/data/domain_net\n"
     ]
    }
   ],
   "source": [
    "%cd domain_net"
   ]
  },
  {
   "cell_type": "code",
   "execution_count": 21,
   "id": "df4fa3e9-2a3c-41dc-b3c8-905fc9e2c312",
   "metadata": {},
   "outputs": [
    {
     "name": "stdout",
     "output_type": "stream",
     "text": [
      "--2022-01-21 05:18:22--  http://csr.bu.edu/ftp/visda/2019/multi-source/domainnet/txt/clipart_train.txt\n",
      "Resolving csr.bu.edu (csr.bu.edu)... 128.197.11.70\n",
      "Connecting to csr.bu.edu (csr.bu.edu)|128.197.11.70|:80... connected.\n",
      "HTTP request sent, awaiting response... 200 OK\n",
      "Length: 1443819 (1.4M) [text/plain]\n",
      "Saving to: ‘clipart_train.txt’\n",
      "\n",
      "clipart_train.txt   100%[===================>]   1.38M  2.14MB/s    in 0.6s    \n",
      "\n",
      "2022-01-21 05:18:22 (2.14 MB/s) - ‘clipart_train.txt’ saved [1443819/1443819]\n",
      "\n",
      "--2022-01-21 05:18:24--  http://csr.bu.edu/ftp/visda/2019/multi-source/domainnet/txt/clipart_test.txt\n",
      "Resolving csr.bu.edu (csr.bu.edu)... 128.197.11.70\n",
      "Connecting to csr.bu.edu (csr.bu.edu)|128.197.11.70|:80... connected.\n",
      "HTTP request sent, awaiting response... 200 OK\n",
      "Length: 628917 (614K) [text/plain]\n",
      "Saving to: ‘clipart_test.txt’\n",
      "\n",
      "clipart_test.txt    100%[===================>] 614.18K   892KB/s    in 0.7s    \n",
      "\n",
      "2022-01-21 05:18:25 (892 KB/s) - ‘clipart_test.txt’ saved [628917/628917]\n",
      "\n",
      "--2022-01-21 05:18:26--  http://csr.bu.edu/ftp/visda/2019/multi-source/domainnet/txt/infograph_train.txt\n",
      "Resolving csr.bu.edu (csr.bu.edu)... 128.197.11.70\n",
      "Connecting to csr.bu.edu (csr.bu.edu)|128.197.11.70|:80... connected.\n",
      "HTTP request sent, awaiting response... 200 OK\n",
      "Length: 1683098 (1.6M) [text/plain]\n",
      "Saving to: ‘infograph_train.txt’\n",
      "\n",
      "infograph_train.txt 100%[===================>]   1.60M  2.21MB/s    in 0.7s    \n",
      "\n",
      "2022-01-21 05:18:27 (2.21 MB/s) - ‘infograph_train.txt’ saved [1683098/1683098]\n",
      "\n",
      "--2022-01-21 05:18:29--  http://csr.bu.edu/ftp/visda/2019/multi-source/domainnet/txt/infograph_test.txt\n",
      "Resolving csr.bu.edu (csr.bu.edu)... 128.197.11.70\n",
      "Connecting to csr.bu.edu (csr.bu.edu)|128.197.11.70|:80... connected.\n",
      "HTTP request sent, awaiting response... 200 OK\n",
      "Length: 728028 (711K) [text/plain]\n",
      "Saving to: ‘infograph_test.txt’\n",
      "\n",
      "infograph_test.txt  100%[===================>] 710.96K  1.23MB/s    in 0.6s    \n",
      "\n",
      "2022-01-21 05:18:30 (1.23 MB/s) - ‘infograph_test.txt’ saved [728028/728028]\n",
      "\n",
      "--2022-01-21 05:18:31--  http://csr.bu.edu/ftp/visda/2019/multi-source/domainnet/txt/painting_train.txt\n",
      "Resolving csr.bu.edu (csr.bu.edu)... 128.197.11.70\n",
      "Connecting to csr.bu.edu (csr.bu.edu)|128.197.11.70|:80... connected.\n",
      "HTTP request sent, awaiting response... 200 OK\n",
      "Length: 2241901 (2.1M) [text/plain]\n",
      "Saving to: ‘painting_train.txt’\n",
      "\n",
      "painting_train.txt  100%[===================>]   2.14M  3.16MB/s    in 0.7s    \n",
      "\n",
      "2022-01-21 05:18:32 (3.16 MB/s) - ‘painting_train.txt’ saved [2241901/2241901]\n",
      "\n",
      "--2022-01-21 05:18:33--  http://csr.bu.edu/ftp/visda/2019/multi-source/domainnet/txt/painting_test.txt\n",
      "Resolving csr.bu.edu (csr.bu.edu)... 128.197.11.70\n",
      "Connecting to csr.bu.edu (csr.bu.edu)|128.197.11.70|:80... connected.\n",
      "HTTP request sent, awaiting response... 200 OK\n",
      "Length: 971888 (949K) [text/plain]\n",
      "Saving to: ‘painting_test.txt’\n",
      "\n",
      "painting_test.txt   100%[===================>] 949.11K  1.81MB/s    in 0.5s    \n",
      "\n",
      "2022-01-21 05:18:34 (1.81 MB/s) - ‘painting_test.txt’ saved [971888/971888]\n",
      "\n",
      "--2022-01-21 05:18:36--  http://csr.bu.edu/ftp/visda/2019/multi-source/domainnet/txt/quickdraw_train.txt\n",
      "Resolving csr.bu.edu (csr.bu.edu)... 128.197.11.70\n",
      "Connecting to csr.bu.edu (csr.bu.edu)|128.197.11.70|:80... connected.\n",
      "HTTP request sent, awaiting response... 200 OK\n",
      "Length: 5164600 (4.9M) [text/plain]\n",
      "Saving to: ‘quickdraw_train.txt’\n",
      "\n",
      "quickdraw_train.txt 100%[===================>]   4.92M  1.66MB/s    in 3.0s    \n",
      "\n",
      "2022-01-21 05:18:39 (1.66 MB/s) - ‘quickdraw_train.txt’ saved [5164600/5164600]\n",
      "\n",
      "--2022-01-21 05:18:40--  http://csr.bu.edu/ftp/visda/2019/multi-source/domainnet/txt/quickdraw_test.txt\n",
      "Resolving csr.bu.edu (csr.bu.edu)... 128.197.11.70\n",
      "Connecting to csr.bu.edu (csr.bu.edu)|128.197.11.70|:80... connected.\n",
      "HTTP request sent, awaiting response... 200 OK\n",
      "Length: 2213400 (2.1M) [text/plain]\n",
      "Saving to: ‘quickdraw_test.txt’\n",
      "\n",
      "quickdraw_test.txt  100%[===================>]   2.11M  2.75MB/s    in 0.8s    \n",
      "\n",
      "2022-01-21 05:18:41 (2.75 MB/s) - ‘quickdraw_test.txt’ saved [2213400/2213400]\n",
      "\n",
      "--2022-01-21 05:18:43--  http://csr.bu.edu/ftp/visda/2019/multi-source/domainnet/txt/real_train.txt\n",
      "Resolving csr.bu.edu (csr.bu.edu)... 128.197.11.70\n",
      "Connecting to csr.bu.edu (csr.bu.edu)|128.197.11.70|:80... connected.\n",
      "HTTP request sent, awaiting response... 200 OK\n",
      "Length: 4440944 (4.2M) [text/plain]\n",
      "Saving to: ‘real_train.txt’\n",
      "\n",
      "real_train.txt      100%[===================>]   4.23M  5.80MB/s    in 0.7s    \n",
      "\n",
      "2022-01-21 05:18:44 (5.80 MB/s) - ‘real_train.txt’ saved [4440944/4440944]\n",
      "\n",
      "--2022-01-21 05:18:45--  http://csr.bu.edu/ftp/visda/2019/multi-source/domainnet/txt/real_test.txt\n",
      "Resolving csr.bu.edu (csr.bu.edu)... 128.197.11.70\n",
      "Connecting to csr.bu.edu (csr.bu.edu)|128.197.11.70|:80... connected.\n",
      "HTTP request sent, awaiting response... 200 OK\n",
      "Length: 1911327 (1.8M) [text/plain]\n",
      "Saving to: ‘real_test.txt’\n",
      "\n",
      "real_test.txt       100%[===================>]   1.82M  2.90MB/s    in 0.6s    \n",
      "\n",
      "2022-01-21 05:18:46 (2.90 MB/s) - ‘real_test.txt’ saved [1911327/1911327]\n",
      "\n",
      "--2022-01-21 05:18:48--  http://csr.bu.edu/ftp/visda/2019/multi-source/domainnet/txt/sketch_train.txt\n",
      "Resolving csr.bu.edu (csr.bu.edu)... 128.197.11.70\n",
      "Connecting to csr.bu.edu (csr.bu.edu)|128.197.11.70|:80... connected.\n",
      "HTTP request sent, awaiting response... 200 OK\n",
      "Length: 1960222 (1.9M) [text/plain]\n",
      "Saving to: ‘sketch_train.txt’\n",
      "\n",
      "sketch_train.txt    100%[===================>]   1.87M  2.64MB/s    in 0.7s    \n",
      "\n",
      "2022-01-21 05:18:48 (2.64 MB/s) - ‘sketch_train.txt’ saved [1960222/1960222]\n",
      "\n",
      "--2022-01-21 05:18:50--  http://csr.bu.edu/ftp/visda/2019/multi-source/domainnet/txt/sketch_test.txt\n",
      "Resolving csr.bu.edu (csr.bu.edu)... 128.197.11.70\n",
      "Connecting to csr.bu.edu (csr.bu.edu)|128.197.11.70|:80... connected.\n",
      "HTTP request sent, awaiting response... 200 OK\n",
      "Length: 850581 (831K) [text/plain]\n",
      "Saving to: ‘sketch_test.txt’\n",
      "\n",
      "sketch_test.txt     100%[===================>] 830.65K  1.44MB/s    in 0.6s    \n",
      "\n",
      "2022-01-21 05:18:51 (1.44 MB/s) - ‘sketch_test.txt’ saved [850581/850581]\n",
      "\n"
     ]
    }
   ],
   "source": [
    "!wget http://csr.bu.edu/ftp/visda/2019/multi-source/domainnet/txt/clipart_train.txt\n",
    "!wget http://csr.bu.edu/ftp/visda/2019/multi-source/domainnet/txt/clipart_test.txt\n",
    "!wget http://csr.bu.edu/ftp/visda/2019/multi-source/domainnet/txt/infograph_train.txt\n",
    "!wget http://csr.bu.edu/ftp/visda/2019/multi-source/domainnet/txt/infograph_test.txt\n",
    "!wget http://csr.bu.edu/ftp/visda/2019/multi-source/domainnet/txt/painting_train.txt\n",
    "!wget http://csr.bu.edu/ftp/visda/2019/multi-source/domainnet/txt/painting_test.txt\n",
    "!wget http://csr.bu.edu/ftp/visda/2019/multi-source/domainnet/txt/quickdraw_train.txt\n",
    "!wget http://csr.bu.edu/ftp/visda/2019/multi-source/domainnet/txt/quickdraw_test.txt\n",
    "!wget http://csr.bu.edu/ftp/visda/2019/multi-source/domainnet/txt/real_train.txt\n",
    "!wget http://csr.bu.edu/ftp/visda/2019/multi-source/domainnet/txt/real_test.txt\n",
    "!wget http://csr.bu.edu/ftp/visda/2019/multi-source/domainnet/txt/sketch_train.txt\n",
    "!wget http://csr.bu.edu/ftp/visda/2019/multi-source/domainnet/txt/sketch_test.txt"
   ]
  },
  {
   "cell_type": "markdown",
   "id": "4059e9e4-222d-4b92-b160-12f87b58312d",
   "metadata": {},
   "source": [
    "## Paris/Oxford Dataset"
   ]
  },
  {
   "cell_type": "code",
   "execution_count": 13,
   "id": "91839074-83a9-417a-8bf7-eee3751e185b",
   "metadata": {},
   "outputs": [
    {
     "name": "stdout",
     "output_type": "stream",
     "text": [
      "/home/jovyan/notebooks/project/data\n",
      "--2022-01-27 19:40:27--  https://www.robots.ox.ac.uk/~vgg/data/oxbuildings/oxbuild_images.tgz\n",
      "Resolving www.robots.ox.ac.uk (www.robots.ox.ac.uk)... 129.67.94.2\n",
      "Connecting to www.robots.ox.ac.uk (www.robots.ox.ac.uk)|129.67.94.2|:443... connected.\n",
      "HTTP request sent, awaiting response... 200 OK\n",
      "Length: 1980280437 (1.8G) [application/x-gzip]\n",
      "Saving to: ‘oxbuild_images.tgz’\n",
      "\n",
      "oxbuild_images.tgz  100%[===================>]   1.84G   108MB/s    in 18s     \n",
      "\n",
      "2022-01-27 19:40:46 (103 MB/s) - ‘oxbuild_images.tgz’ saved [1980280437/1980280437]\n",
      "\n"
     ]
    }
   ],
   "source": [
    "%cd ..\n",
    "!wget https://www.robots.ox.ac.uk/~vgg/data/oxbuildings/oxbuild_images.tgz"
   ]
  },
  {
   "cell_type": "code",
   "execution_count": 14,
   "id": "1ff0c771-9771-4013-bd91-c741481ffbf4",
   "metadata": {},
   "outputs": [
    {
     "name": "stdout",
     "output_type": "stream",
     "text": [
      "--2022-01-27 19:42:58--  https://www.robots.ox.ac.uk/~vgg/data/parisbuildings/paris_1.tgz\n",
      "Resolving www.robots.ox.ac.uk (www.robots.ox.ac.uk)... 129.67.94.2\n",
      "Connecting to www.robots.ox.ac.uk (www.robots.ox.ac.uk)|129.67.94.2|:443... connected.\n",
      "HTTP request sent, awaiting response... 200 OK\n",
      "Length: 1269538001 (1.2G) [application/x-gzip]\n",
      "Saving to: ‘paris_1.tgz’\n",
      "\n",
      "paris_1.tgz         100%[===================>]   1.18G  80.4MB/s    in 15s     \n",
      "\n",
      "2022-01-27 19:43:14 (79.2 MB/s) - ‘paris_1.tgz’ saved [1269538001/1269538001]\n",
      "\n",
      "--2022-01-27 19:43:16--  https://www.robots.ox.ac.uk/~vgg/data/parisbuildings/paris_2.tgz\n",
      "Resolving www.robots.ox.ac.uk (www.robots.ox.ac.uk)... 129.67.94.2\n",
      "Connecting to www.robots.ox.ac.uk (www.robots.ox.ac.uk)|129.67.94.2|:443... connected.\n",
      "HTTP request sent, awaiting response... 200 OK\n",
      "Length: 1343042257 (1.2G) [application/x-gzip]\n",
      "Saving to: ‘paris_2.tgz’\n",
      "\n",
      "paris_2.tgz         100%[===================>]   1.25G   108MB/s    in 14s     \n",
      "\n",
      "2022-01-27 19:43:30 (89.4 MB/s) - ‘paris_2.tgz’ saved [1343042257/1343042257]\n",
      "\n"
     ]
    }
   ],
   "source": [
    "!wget https://www.robots.ox.ac.uk/~vgg/data/parisbuildings/paris_1.tgz\n",
    "!wget https://www.robots.ox.ac.uk/~vgg/data/parisbuildings/paris_2.tgz"
   ]
  },
  {
   "cell_type": "code",
   "execution_count": 20,
   "id": "45a92f8d-5d94-4288-8619-c929cfdc7e07",
   "metadata": {},
   "outputs": [],
   "source": [
    "%mkdir oxford5k\n",
    "%mkdir paris6k"
   ]
  },
  {
   "cell_type": "code",
   "execution_count": 21,
   "id": "7a0bc549-dafd-44c8-82ac-9e1d223a8722",
   "metadata": {},
   "outputs": [],
   "source": [
    "!tar -zxf oxbuild_images.tgz -C oxford5k\n",
    "!tar -zxf paris_1.tgz -C paris6k\n",
    "!tar -zxf paris_2.tgz -C paris6k"
   ]
  },
  {
   "cell_type": "code",
   "execution_count": 34,
   "id": "16dc66c7-7d85-4f98-aae8-c71ef53e351e",
   "metadata": {},
   "outputs": [],
   "source": [
    "!mv paris6k/paris/* paris6k/"
   ]
  },
  {
   "cell_type": "code",
   "execution_count": 35,
   "id": "270486e7-3c84-4ad0-8c61-733915274414",
   "metadata": {},
   "outputs": [],
   "source": [
    "!rm -rf paris6k/paris"
   ]
  },
  {
   "cell_type": "code",
   "execution_count": 3,
   "id": "8e94f50e-62f9-426a-9549-794cd36806e1",
   "metadata": {},
   "outputs": [
    {
     "name": "stdout",
     "output_type": "stream",
     "text": [
      "--2022-01-28 00:29:17--  https://www.robots.ox.ac.uk/~vgg/data/oxbuildings/gt_files_170407.tgz\n",
      "Resolving www.robots.ox.ac.uk (www.robots.ox.ac.uk)... 129.67.94.2\n",
      "Connecting to www.robots.ox.ac.uk (www.robots.ox.ac.uk)|129.67.94.2|:443... connected.\n",
      "HTTP request sent, awaiting response... 200 OK\n",
      "Length: 8174 (8.0K) [application/x-gzip]\n",
      "Saving to: ‘gt_files_170407.tgz’\n",
      "\n",
      "gt_files_170407.tgz 100%[===================>]   7.98K  --.-KB/s    in 0s      \n",
      "\n",
      "2022-01-28 00:29:17 (39.9 MB/s) - ‘gt_files_170407.tgz’ saved [8174/8174]\n",
      "\n"
     ]
    }
   ],
   "source": [
    "!wget https://www.robots.ox.ac.uk/~vgg/data/oxbuildings/gt_files_170407.tgz"
   ]
  },
  {
   "cell_type": "code",
   "execution_count": 4,
   "id": "f9a64637-d432-41e8-bbce-2dc8d51dd084",
   "metadata": {},
   "outputs": [],
   "source": [
    "!tar -zxf gt_files_170407.tgz -C oxford5k"
   ]
  },
  {
   "cell_type": "code",
   "execution_count": 7,
   "id": "197ac470-a649-49a3-912c-9ba705143edf",
   "metadata": {},
   "outputs": [],
   "source": [
    "oxford_dir = 'oxford5k'"
   ]
  },
  {
   "cell_type": "code",
   "execution_count": 8,
   "id": "786f0679-7b3b-4177-a21c-b8a5ef44cbf3",
   "metadata": {},
   "outputs": [],
   "source": [
    "import os\n",
    "from pathlib import Path\n",
    "\n",
    "for filename in os.listdir(oxford_dir):\n",
    "    if filename.endswith('.jpg'):\n",
    "        label = '_'.join(filename.split('_')[:-1])\n",
    "        \n",
    "        subdir = os.path.join(oxford_dir, label)\n",
    "        Path(subdir).mkdir(exist_ok=True)\n",
    "        \n",
    "        Path(os.path.join(oxford_dir, filename)).rename(os.path.join(subdir, filename))"
   ]
  },
  {
   "cell_type": "code",
   "execution_count": 9,
   "id": "d79bb234-9385-43ae-aa14-e6af9d69156a",
   "metadata": {},
   "outputs": [],
   "source": [
    "for filename in os.listdir(oxford_dir):\n",
    "    if filename.endswith('.txt'):\n",
    "        label = '_'.join(filename.split('_')[:-1])\n",
    "        subdir = os.path.join(oxford_dir, label)\n",
    "        Path(os.path.join(oxford_dir, filename)).rename(os.path.join(subdir, filename))"
   ]
  },
  {
   "cell_type": "code",
   "execution_count": null,
   "id": "bdd18504-9a6c-43a4-8fbc-0a253e0cdec3",
   "metadata": {},
   "outputs": [],
   "source": []
  }
 ],
 "metadata": {
  "kernelspec": {
   "display_name": "dldiy",
   "language": "python",
   "name": "dldiy"
  },
  "language_info": {
   "codemirror_mode": {
    "name": "ipython",
    "version": 3
   },
   "file_extension": ".py",
   "mimetype": "text/x-python",
   "name": "python",
   "nbconvert_exporter": "python",
   "pygments_lexer": "ipython3",
   "version": "3.8.12"
  }
 },
 "nbformat": 4,
 "nbformat_minor": 5
}
